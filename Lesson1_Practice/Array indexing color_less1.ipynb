{
 "cells": [
  {
   "cell_type": "code",
   "execution_count": 1,
   "metadata": {
    "collapsed": true
   },
   "outputs": [],
   "source": [
    "import numpy as np"
   ]
  },
  {
   "cell_type": "code",
   "execution_count": 5,
   "metadata": {
    "collapsed": false
   },
   "outputs": [
    {
     "name": "stdout",
     "output_type": "stream",
     "text": [
      "x shape:  (2, 2, 2)\n"
     ]
    }
   ],
   "source": [
    "x = np.array([[[0, 1, 2],[3, 4, 5]],[[6, 7, 8]] ])\n",
    "print('x shape: ', x.shape) "
   ]
  },
  {
   "cell_type": "code",
   "execution_count": 16,
   "metadata": {
    "collapsed": false
   },
   "outputs": [
    {
     "name": "stdout",
     "output_type": "stream",
     "text": [
      "x[:,:,0]:  [[0 2]\n",
      " [4 6]]\n",
      "x[:,:,0] shape:  (2, 2)\n",
      "thresh shape:  (2, 2)\n"
     ]
    }
   ],
   "source": [
    "# Flatten a dimension of x and compare it's values to 2, save as threshold array\n",
    "print('x[:,:,0]: ', x[:,:,0])\n",
    "print('x[:,:,0] shape: ', x[:,:,0].shape)\n",
    "thresh = (x[:,:,0] > 2) | (x[:,:,1] > 2)\n",
    "print('thresh shape: ', thresh.shape)"
   ]
  },
  {
   "cell_type": "code",
   "execution_count": 9,
   "metadata": {
    "collapsed": false
   },
   "outputs": [
    {
     "name": "stdout",
     "output_type": "stream",
     "text": [
      "cp shape:  (2, 2, 2)\n",
      "cp is:  [[[0 1]\n",
      "  [2 3]]\n",
      "\n",
      " [[4 5]\n",
      "  [6 7]]]\n"
     ]
    }
   ],
   "source": [
    "cp = np.copy(x)\n",
    "print('cp shape: ', cp.shape)\n",
    "print('cp is: ', cp)"
   ]
  },
  {
   "cell_type": "code",
   "execution_count": 15,
   "metadata": {
    "collapsed": false
   },
   "outputs": [
    {
     "name": "stdout",
     "output_type": "stream",
     "text": [
      "thresh is:  [[False  True]\n",
      " [ True  True]]\n",
      "thresh shape:  (2, 2)\n",
      "cp after indexed:  [[[0 1]\n",
      "  [0 0]]\n",
      "\n",
      " [[0 0]\n",
      "  [0 0]]]\n"
     ]
    }
   ],
   "source": [
    "print('thresh is: ', thresh)\n",
    "print('thresh shape: ', thresh.shape)\n",
    "# Set values of cp matrix that failed the test to 0\n",
    "cp[thresh] = [0, 0]\n",
    "print('cp after indexed: ', cp)\n",
    "# I do not understand what the result means, or how we are able to use cp[thresh] when thresh is a 2v2 matrix filled with boolean values"
   ]
  },
  {
   "cell_type": "code",
   "execution_count": null,
   "metadata": {
    "collapsed": true
   },
   "outputs": [],
   "source": []
  }
 ],
 "metadata": {
  "kernelspec": {
   "display_name": "Python [conda env:python3]",
   "language": "python",
   "name": "conda-env-python3-py"
  },
  "language_info": {
   "codemirror_mode": {
    "name": "ipython",
    "version": 3
   },
   "file_extension": ".py",
   "mimetype": "text/x-python",
   "name": "python",
   "nbconvert_exporter": "python",
   "pygments_lexer": "ipython3",
   "version": "3.5.2"
  }
 },
 "nbformat": 4,
 "nbformat_minor": 1
}
